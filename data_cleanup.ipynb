{
 "cells": [
  {
   "cell_type": "markdown",
   "id": "3ab88701-35af-4ef3-9239-df1a8deb8238",
   "metadata": {},
   "source": [
    "## Data clean-up"
   ]
  },
  {
   "cell_type": "code",
   "execution_count": 5,
   "id": "ffea7a48-063e-4216-89d6-1e88ed84b240",
   "metadata": {},
   "outputs": [],
   "source": [
    "import matplotlib.pyplot as plt\n",
    "import pandas as pd\n",
    "import os \n",
    "\n",
    "plt.ioff()\n",
    "\n",
    "csfont = {'fontname':'AnjaliOldLipi', 'fontsize':30}\n",
    "hfont = {'fontname':'AnjaliOldLipi', 'fontsize':30}"
   ]
  },
  {
   "cell_type": "code",
   "execution_count": 119,
   "id": "21fb05e7-79ec-428f-8390-fdd6fdb6110a",
   "metadata": {},
   "outputs": [],
   "source": [
    "import wandb\n",
    "\n",
    "api = wandb.Api()\n",
    "\n",
    "def get_runs_filters(api, group=\"sfols\", env_name = \"Delivery-v0\", timestep_col = \"learning_timestep\"):\n",
    "\n",
    "    runs = api.runs(\"davidguillermo/sfcomp\")\n",
    "    \n",
    "    summary_list, config_list, name_list = [], [], []\n",
    "\n",
    "    df = pd.DataFrame(columns=[\"timestep\"])\n",
    "    \n",
    "    for run in runs: \n",
    "        if run.group == group and run.config[\"env\"][\"gym_name\"] == env_name:\n",
    "\n",
    "            data = run.history(x_axis=timestep_col, keys=[\"learning/fsa_reward\"])\n",
    "\n",
    "            df.loc[:, \"timestep\"] = data[timestep_col]\n",
    "            df.loc[:, run.name] = data[\"learning/fsa_reward\"]\n",
    "    \n",
    "        # # .config contains the hyperparameters.\n",
    "        # #  We remove special values that start with _.\n",
    "        # config_list.append(\n",
    "        #     {k: v for k,v in run.config.items()\n",
    "        #       if not k.startswith('_')})\n",
    "    \n",
    "        # # .name is the human-readable name of the run.\n",
    "        # name_list.append(run.name)\n",
    "\n",
    "    return df\n",
    "\n",
    "def drop_columns(df):\n",
    "    todrop = []\n",
    "    for col in df.columns:\n",
    "        if '__MIN' in col or '__MAX' in col or (col.endswith(\"_step\") and col !=\"global_step\"):\n",
    "            todrop.append(col) \n",
    "    todrop\n",
    "\n",
    "    return df.drop(columns=todrop)\n",
    "\n",
    "\n",
    "def cleandf(df):\n",
    "    \n",
    "    df = drop_columns(df)\n",
    "    #rename \n",
    "\n",
    "    print(df.columns)\n",
    "\n",
    "    renames = {}\n",
    "\n",
    "    newdf = pd.DataFrame(columns=[\"step\", \"mean\", \"std\"])\n",
    "\n",
    "    newdf.loc[:, \"mean\"] = df.loc[ : , df.columns!='timestep'].mean(axis=1)\n",
    "    newdf.loc[:, \"std\"] = df.loc[ : , df.columns!='timestep'].std(axis=1)\n",
    "    newdf.loc[:, \"step\"] = df.timestep\n",
    "\n",
    "    return newdf"
   ]
  },
  {
   "cell_type": "code",
   "execution_count": 107,
   "id": "842e9246-9665-4a4b-80d9-6ab55cfac09c",
   "metadata": {},
   "outputs": [
    {
     "name": "stdout",
     "output_type": "stream",
     "text": [
      "Index(['timestep', 'lively-terrain-597', 'absurd-snow-596',\n",
      "       'honest-cherry-595', 'autumn-wind-594', 'generous-sunset-593',\n",
      "       'driven-sound-591', 'grateful-forest-590', 'vivid-sky-589',\n",
      "       'bright-bee-587', 'magic-shape-586', 'frosty-hill-585',\n",
      "       'usual-elevator-584', 'charmed-terrain-583', 'proud-dew-581',\n",
      "       'clear-jazz-580', 'chocolate-meadow-579', 'major-snowball-578',\n",
      "       'feasible-gorge-577', 'expert-feather-575', 'lemon-wood-574'],\n",
      "      dtype='object')\n"
     ]
    }
   ],
   "source": [
    "delivery_sfols = cleandf(sfols_delivery)\n",
    "\n",
    "sr, timemark = len(delivery_sfols), delivery_sfols.step.max()\n",
    "\n",
    "mean, std = delivery_sfols.iloc[-1, [1,2]]\n",
    "\n",
    "for i, r in enumerate(range(timemark+500, 160001, 500)):\n",
    "\n",
    "    delivery_sfols.loc[sr + i + 1, :] = [r, mean, std]"
   ]
  },
  {
   "cell_type": "code",
   "execution_count": 108,
   "id": "ae927242-05a1-417f-a019-ce732468a6d6",
   "metadata": {},
   "outputs": [
    {
     "data": {
      "text/html": [
       "<div>\n",
       "<style scoped>\n",
       "    .dataframe tbody tr th:only-of-type {\n",
       "        vertical-align: middle;\n",
       "    }\n",
       "\n",
       "    .dataframe tbody tr th {\n",
       "        vertical-align: top;\n",
       "    }\n",
       "\n",
       "    .dataframe thead th {\n",
       "        text-align: right;\n",
       "    }\n",
       "</style>\n",
       "<table border=\"1\" class=\"dataframe\">\n",
       "  <thead>\n",
       "    <tr style=\"text-align: right;\">\n",
       "      <th></th>\n",
       "      <th>step</th>\n",
       "      <th>mean</th>\n",
       "      <th>std</th>\n",
       "    </tr>\n",
       "  </thead>\n",
       "  <tbody>\n",
       "    <tr>\n",
       "      <th>0</th>\n",
       "      <td>500</td>\n",
       "      <td>-1001.0</td>\n",
       "      <td>1.297771</td>\n",
       "    </tr>\n",
       "    <tr>\n",
       "      <th>1</th>\n",
       "      <td>1000</td>\n",
       "      <td>-1001.3</td>\n",
       "      <td>1.894591</td>\n",
       "    </tr>\n",
       "    <tr>\n",
       "      <th>2</th>\n",
       "      <td>1500</td>\n",
       "      <td>-1000.6</td>\n",
       "      <td>0.680557</td>\n",
       "    </tr>\n",
       "    <tr>\n",
       "      <th>3</th>\n",
       "      <td>2000</td>\n",
       "      <td>-1001.6</td>\n",
       "      <td>1.788854</td>\n",
       "    </tr>\n",
       "    <tr>\n",
       "      <th>4</th>\n",
       "      <td>2500</td>\n",
       "      <td>-1000.7</td>\n",
       "      <td>1.301821</td>\n",
       "    </tr>\n",
       "    <tr>\n",
       "      <th>...</th>\n",
       "      <td>...</td>\n",
       "      <td>...</td>\n",
       "      <td>...</td>\n",
       "    </tr>\n",
       "    <tr>\n",
       "      <th>316</th>\n",
       "      <td>158000</td>\n",
       "      <td>-50.0</td>\n",
       "      <td>12.31174</td>\n",
       "    </tr>\n",
       "    <tr>\n",
       "      <th>317</th>\n",
       "      <td>158500</td>\n",
       "      <td>-50.0</td>\n",
       "      <td>12.31174</td>\n",
       "    </tr>\n",
       "    <tr>\n",
       "      <th>318</th>\n",
       "      <td>159000</td>\n",
       "      <td>-50.0</td>\n",
       "      <td>12.31174</td>\n",
       "    </tr>\n",
       "    <tr>\n",
       "      <th>319</th>\n",
       "      <td>159500</td>\n",
       "      <td>-50.0</td>\n",
       "      <td>12.31174</td>\n",
       "    </tr>\n",
       "    <tr>\n",
       "      <th>320</th>\n",
       "      <td>160000</td>\n",
       "      <td>-50.0</td>\n",
       "      <td>12.31174</td>\n",
       "    </tr>\n",
       "  </tbody>\n",
       "</table>\n",
       "<p>320 rows × 3 columns</p>\n",
       "</div>"
      ],
      "text/plain": [
       "       step    mean       std\n",
       "0       500 -1001.0  1.297771\n",
       "1      1000 -1001.3  1.894591\n",
       "2      1500 -1000.6  0.680557\n",
       "3      2000 -1001.6  1.788854\n",
       "4      2500 -1000.7  1.301821\n",
       "..      ...     ...       ...\n",
       "316  158000   -50.0  12.31174\n",
       "317  158500   -50.0  12.31174\n",
       "318  159000   -50.0  12.31174\n",
       "319  159500   -50.0  12.31174\n",
       "320  160000   -50.0  12.31174\n",
       "\n",
       "[320 rows x 3 columns]"
      ]
     },
     "execution_count": 108,
     "metadata": {},
     "output_type": "execute_result"
    }
   ],
   "source": [
    "delivery_sfols"
   ]
  },
  {
   "cell_type": "markdown",
   "id": "7c4f3d73-cf19-450b-a7ae-53b2918b47c1",
   "metadata": {},
   "source": [
    "### Delivery"
   ]
  },
  {
   "cell_type": "code",
   "execution_count": 112,
   "id": "bfc7f3bd-c911-4be6-a16f-3117e5b6be24",
   "metadata": {},
   "outputs": [],
   "source": [
    "# sfols_delivery = get_runs_filters(api)\n",
    "# delivery_sfols = cleandf(sfols_delivery)\n",
    "\n",
    "# lof_delivery = get_runs_filters(api, group=\"lof\", env_name = \"Delivery-v0\", timestep_col = \"global_step\")\n",
    "# delivery_lof = cleandf(lof_delivery)"
   ]
  },
  {
   "cell_type": "code",
   "execution_count": 113,
   "id": "82e38a72-5e99-4d52-8b7e-2dcb1fa13de6",
   "metadata": {},
   "outputs": [],
   "source": [
    "# delivery_sfols.to_csv(\"SFOLS-Delivery.csv\", index=False)\n",
    "# delivery_lof.to_csv(\"LOF-Delivery.csv\", index=False)"
   ]
  },
  {
   "cell_type": "markdown",
   "id": "279e0842-4446-486b-8040-9d7190b06223",
   "metadata": {},
   "source": [
    "### Office"
   ]
  },
  {
   "cell_type": "code",
   "execution_count": 121,
   "id": "4289b3dc-5ef0-4560-8218-9c40b705a1ff",
   "metadata": {},
   "outputs": [
    {
     "name": "stdout",
     "output_type": "stream",
     "text": [
      "Index(['timestep', 'polished-salad-491', 'neat-morning-490', 'mild-grass-488',\n",
      "       'dauntless-moon-487', 'cosmic-frost-485', 'exalted-pond-484',\n",
      "       'true-yogurt-483', 'wild-planet-481', 'rural-music-480',\n",
      "       'autumn-cloud-478', 'rural-meadow-477', 'splendid-universe-475',\n",
      "       'stellar-energy-474', 'toasty-sky-473', 'whole-forest-471',\n",
      "       'rich-terrain-470', 'faithful-armadillo-469', 'whole-sun-466',\n",
      "       'celestial-resonance-465', 'solar-snowflake-462', 'woven-planet-332',\n",
      "       'whole-smoke-331', 'fearless-puddle-330', 'peachy-music-329',\n",
      "       'ethereal-sponge-328', 'zany-smoke-327', 'sandy-meadow-325',\n",
      "       'valiant-cosmos-322', 'clear-mountain-320', 'giddy-surf-317',\n",
      "       'lyric-flower-281', 'bumbling-dream-280', 'brisk-monkey-279',\n",
      "       'dulcet-disco-278', 'ethereal-salad-277', 'eternal-sun-274',\n",
      "       'youthful-darkness-268', 'whole-forest-262', 'jolly-paper-260',\n",
      "       'lively-deluge-256'],\n",
      "      dtype='object')\n"
     ]
    }
   ],
   "source": [
    "lof_office = get_runs_filters(api, group=\"lof\", env_name = \"Office-v0\", timestep_col = \"global_step\")\n",
    "office_lof = cleandf(lof_office)\n",
    "office_lof\n",
    "office_lof.to_csv(\"LOF-Office.csv\", index=False)"
   ]
  },
  {
   "cell_type": "code",
   "execution_count": null,
   "id": "9a50305e-6eff-4ffb-885a-9e00bc625760",
   "metadata": {},
   "outputs": [],
   "source": []
  }
 ],
 "metadata": {
  "kernelspec": {
   "display_name": "Python 3 (ipykernel)",
   "language": "python",
   "name": "python3"
  },
  "language_info": {
   "codemirror_mode": {
    "name": "ipython",
    "version": 3
   },
   "file_extension": ".py",
   "mimetype": "text/x-python",
   "name": "python",
   "nbconvert_exporter": "python",
   "pygments_lexer": "ipython3",
   "version": "3.10.13"
  }
 },
 "nbformat": 4,
 "nbformat_minor": 5
}
